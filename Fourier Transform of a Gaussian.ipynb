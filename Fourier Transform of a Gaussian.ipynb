{
 "cells": [
  {
   "cell_type": "markdown",
   "metadata": {},
   "source": [
    "# Introduction \n",
    "\n",
    "Previously we showed that a Gaussian function can be given by \n",
    "\n",
    "$$\\frac{1}{\\sqrt{2 \\pi \\sigma^2}} \\exp{\\Bigg(-\\frac{x^2}{2 \\sigma^2}} \\Bigg)$$\n",
    "\n",
    "We also showed that the area under the curve for this particular Gaussian is one.  That is, if we integrate from minus infinity to infinity we get one.  \n",
    "\n",
    "This formulation of a Gaussian is scalable with the constant $\\sigma$ which can be any positive real number.  Finally, in the last post we discussed how this scalable Gaussian meets the requirements of a delta function if $\\sigma \\rightarrow 0$."
   ]
  },
  {
   "cell_type": "markdown",
   "metadata": {},
   "source": [
    "The goal now is to find the Fourier transform of the Gaussian and then let $\\sigma \\rightarrow 0$.  This will give us a better understanding of the Fourier transform of a delta function.  The Fourier transform of the Gaussian is not trivial, so we will break the problem down.  \n",
    "\n",
    "1. Find the Fourier transform of a simplier, more \"natural\" Gaussian\n",
    "2. Formulate a generally scalable Gaussian\n",
    "3. Use the linearity property and the scaling property (similarity theorem) to find the Fourier transform of the scalable Gaussian"
   ]
  },
  {
   "cell_type": "markdown",
   "metadata": {},
   "source": [
    "## Find the Fourier transform of a simplier, more \"natural\" Gaussian\n",
    "\n",
    "We will begin with a Gaussian in the form\n",
    "\n",
    "$$g(x) = e^{-\\pi x^2} $$\n",
    "\n",
    "I call this the \"natural\" form of a Gaussian. This name becomes appearant later in this section. The function $g(x)$ has a Fourier transform $G(s)$  \n",
    "\n",
    "$$g(x) \\leftrightharpoons G(s)$$\n",
    "\n",
    "which we can write with the formula for Fourier transform as\n",
    "\n",
    "$$G(s) = \\int \\limits_{-\\infty}^{\\infty} e^{-\\pi x^2} e^{-2 \\pi i s x} ~dx$$\n",
    "\n",
    "Next we apply a trick to determine the integral.  That trick is to take the derivative of both sides of the equation with respect to $s$.   \n",
    "\n",
    "$$\\frac{~d}{ds} G(s) = \\int \\limits_{-\\infty}^{\\infty} e^{-\\pi x^2} e^{-2 \\pi i s x} (-2 \\pi i x) ~dx$$"
   ]
  },
  {
   "cell_type": "markdown",
   "metadata": {},
   "source": [
    "The Gaussian is a constant with repect to $s$. The factor $(-2 \\pi i x)$ results from the chain rule. We can now apply integration by parts.  \n",
    "\n",
    "$$G'(s) = \\int u ~dv = uv - \\int v~du$$\n",
    "\n",
    "Notice that we use $G'(s) = \\frac{~d}{ds} G(s)$ for simplicity."
   ]
  },
  {
   "cell_type": "markdown",
   "metadata": {},
   "source": [
    "*The choices for $u$ and $dv$ are arrived at by trial and error. The following substitutions work*\n",
    "\n",
    "let $u = e^{- 2 \\pi i s x} \\Rightarrow du = -2 \\pi i s  ~e^{- 2 \\pi i s x}~dx$\n",
    "\n",
    "and let $dv = -2 \\pi i x e^{-\\pi x^2} ~dx$\n",
    "\n",
    "Then let $w = - \\pi x^2 \\Rightarrow dw = -2 \\pi x ~dx \\Rightarrow dx = \\frac{dw}{-2 \\pi x}$\n"
   ]
  },
  {
   "cell_type": "markdown",
   "metadata": {},
   "source": [
    "Subsituting $w$ and $dx$ into the equation for $dv$ yields\n",
    "\n",
    "$$dv = -2 \\pi i x e^w \\frac{dw}{-2 \\pi x} = i~e^w dw$$\n",
    "\n",
    "The integral is therefore \n",
    "\n",
    "$$v = i e^{- \\pi x^2} + C$$"
   ]
  },
  {
   "cell_type": "markdown",
   "metadata": {},
   "source": [
    "where $C$ is the constant of integration.  We now have all the ingredients to compute the integration by parts. \n",
    "\n",
    "$$G'(s) = uv - \\int v~du $$\n",
    "\n",
    "$$G'(s) = \\Bigg[\\Big(e^{- 2 \\pi i s x} \\Big) \\Big( e^{- \\pi x^2} \\Big) \\Bigg]_{-\\infty}^{\\infty} - \\int \\limits_{-\\infty}^{\\infty} \\Big( i e^{- \\pi x^2} \\Big) \\Big(-2 \\pi i s  ~e^{- 2 \\pi i s x}~dx \\Big) $$\n",
    "\n",
    "Let's take a look at the 1st factor in the 1st term: $e^{- 2 \\pi i s x}$.  This is an oscillator so it's value is undefined at minus infinity and at plus infinity. However, using Euler formula we can see that it's value is bounded between $-1$ and $1$. The second factor: $e^{-\\pi x^2}$ goes to zero at minus infinity and at plus infinity.  Zero times a number between -1 and 1 is zero.   i.e. $[uv]_{-\\infty}^{\\infty}$ is zero. This leaves\n",
    "\n",
    "$$G'(s) =  - \\int \\limits_{-\\infty}^{\\infty} \\Big( i e^{- \\pi x^2} \\Big) \\Big(-2 \\pi i s ~dx \\Big) $$\n",
    "\n",
    "The two minus signs cancel, but there are two $i$'s in the equation i.e. $i \\times i = -1$. We bring the constants outside the integral resulting in \n",
    "\n",
    "$$G'(s) =  -2 \\pi s \\int \\limits_{-\\infty}^{\\infty}  e^{\\pi x^2} ~e^{- 2 \\pi i s x}~dx $$"
   ]
  },
  {
   "cell_type": "markdown",
   "metadata": {},
   "source": [
    "\n",
    "\n",
    "The key observation in the above equation is that the integral is simply the Fourier transform of $g(x)$. Therefore we have \n",
    "\n",
    "$$G'(s) =  -2 \\pi s ~G(s) $$\n",
    "\n",
    "This is a differential equation where the derivative of the function is equal to $-2 \\pi s$ times the function itself.  Having experience in taking the derivative of Gaussians leads us to guess the function $G(s)$ to be\n",
    "\n",
    "$$G(s) = G(0)~e^{- \\pi s^2} $$\n",
    "\n",
    "Where $G(0)$ is the Fourier transform of the function evaluated at zero.  That is\n",
    "\n",
    "$$G(0) = \\int \\limits_{-\\infty}^{\\infty} e^{-\\pi x^2} e^{-2 \\pi i (0) x} ~dx = \\int \\limits_{-\\infty}^{\\infty} e^{-\\pi x^2}  ~dx$$\n",
    "\n",
    "Recall the \"area under the curve\" property which states that the area under the spatial domain function is equal to the the Fourier transform evaluated at zero.   Previously we showed a method for how to evalute the area under a Gaussian with cylindrical coordinates.  Applying the same method to this form of Gaussian shows that it is equal to one.  i.e. \n",
    "\n",
    "$$G(0) = \\int \\limits_{-\\infty}^{\\infty} e^{-\\pi x^2} e^{-2 \\pi i (0) x} ~dx = \\int \\limits_{-\\infty}^{\\infty} e^{-\\pi x^2}  ~dx = 1$$\n",
    "\n",
    "Therefore the Fourier transform of the Gaussian is simply\n",
    "\n",
    "$$G(s) = e^{- \\pi s^2} $$\n",
    "\n",
    "$$e^{-\\pi x^2} \\leftrightharpoons e^{-\\pi s^2}$$\n",
    "\n",
    "QED\n",
    "\n",
    "Let's check our differential equation by taking the derivative of $G(s)$\n",
    "\n",
    "$$\\frac{~d}{ds} G(s) = \\frac{~d}{ds} e^{-\\pi s^2} = -2 \\pi s e^{-\\pi s^2}-2\\pi s G(s)$$\n",
    "\n",
    "It checks out!\n",
    "\n",
    "\n",
    "\n",
    "We should pause briefly to admire the beautiful symetry of the Gaussian and its Fourier transform. \n",
    "\n",
    "$$ e^{-\\pi x^2} \\leftrightharpoons e^{-\\pi s^2}$$\n",
    "\n",
    "The Fourier transform of a Gaussian is a Gaussian.  Further more this form of the Gaussian is the most elegant and as such I have called it the \"natural\" form. "
   ]
  },
  {
   "cell_type": "markdown",
   "metadata": {},
   "source": [
    "## Formulate a generally scalable Gaussian\n",
    "\n",
    "While the previous Gaussian is elegant, it is not scalable.  Next we will formulate a scalable Gaussian that we can relate to the one we know the Fourier transform of.  Compare \n",
    "\n",
    "$$\\frac{1}{\\sqrt{2 \\pi \\sigma^2}} \\exp{\\Bigg(-\\frac{x^2}{2 \\sigma^2}} \\Bigg)$$\n",
    "\n",
    "\n",
    "with \n",
    "\n",
    "$$ e^{-\\pi x^2} $$\n",
    "\n",
    "The goal is to scale the function by replacing $x$ with $ax$:  \n",
    "\n",
    "\n",
    "$$x \\rightarrow ax$$\n",
    "\n",
    "We make this replacement an equate the two exponential\n",
    "\n",
    "$$e^{-\\pi (ax)^2} = \\exp{\\Bigg(-\\frac{x^2}{2 \\sigma^2}} \\Bigg)$$\n",
    "\n",
    "Taking the nature log of both sides yields\n",
    "\n",
    "$$-\\pi (ax)^2 = -\\frac{x^2}{2 \\sigma^2}$$\n",
    "\n",
    "Solving for $a$ gives us\n",
    "\n",
    "$$a = \\frac{1}{\\sqrt{2 \\pi \\sigma^2}} $$\n",
    "\n",
    "\n",
    "Recall that this is also the constant that normalizes the normal probability function in the last post. We can write the scalable Gaussian as \n",
    "\n",
    "$$a e^{-(ax)^2} $$\n",
    "\n"
   ]
  },
  {
   "cell_type": "markdown",
   "metadata": {},
   "source": [
    "## Use the scaling property (similarity theorem) to find the Fourier transform of the scalable Gaussian\n",
    "\n",
    "We can now use the properties to compute the Fourier transform of this function. For the non-scalable function we have\n",
    "\n",
    "$$g(x) \\leftrightharpoons G(s)$$\n",
    "\n",
    "What then is the Fourier transform of $a~g(ax)$?\n",
    "\n",
    "$$a ~g(ax) \\leftrightharpoons ~?$$\n",
    "\n",
    "\n",
    "From the linearity property we know that \n",
    "\n",
    "$$a~g(x) \\leftrightharpoons aG(s) $$\n",
    "\n",
    "From the scaling property we know that \n",
    "\n",
    "$$g(ax) \\leftrightharpoons \\frac{1}{a} G \\Big(\\frac{s}{a} \\Big)$$\n",
    "\n",
    "Putting these two togeather yields\n",
    "\n",
    "$$a~g(ax) \\leftrightharpoons \\frac{a}{a}G \\Big(\\frac{s}{a} \\Big) = e^{- {2 \\pi^2 \\sigma^2}s^2}$$\n",
    "\n",
    "\n",
    "\n",
    "QED\n",
    "\n",
    "\n",
    "Finally, we can relate this to the delta function by taking the limit as $\\sigma \\rightarrow 0$.\n",
    "\n",
    "$$\\lim_{\\sigma \\to 0} e^{- {2 \\pi^2 \\sigma^2}s^2} =1$$\n",
    "\n",
    "Therefore\n",
    "\n",
    "$$\\delta(x) \\leftrightharpoons 1$$\n",
    "\n",
    "In summary as $\\sigma \\rightarrow 0$ in the spatial domain, the Gaussian becomes a spike of infinite height and infintesimal width.  The area under the function over the entire spatial domain is 1.  The Fourier transform of a Gaussian is itself a Gaussian.  The relationship between the Gaussian and its Fourier transform is reciprocal in nature.  That is, as the spatial function becomes more narrow, the Gaussian in the frequency domain becomes wider.  As $\\sigma \\rightarrow 0$ the function in the spatial frequency domain goes to one, over the entire range from minus infinity to plus infinity.  \n",
    "\n"
   ]
  },
  {
   "cell_type": "markdown",
   "metadata": {},
   "source": [
    "William Hudson Welch    \n",
    "10 October 2020"
   ]
  },
  {
   "cell_type": "code",
   "execution_count": null,
   "metadata": {},
   "outputs": [],
   "source": []
  },
  {
   "cell_type": "code",
   "execution_count": null,
   "metadata": {},
   "outputs": [],
   "source": []
  }
 ],
 "metadata": {
  "kernelspec": {
   "display_name": "Python 3",
   "language": "python",
   "name": "python3"
  },
  "language_info": {
   "codemirror_mode": {
    "name": "ipython",
    "version": 3
   },
   "file_extension": ".py",
   "mimetype": "text/x-python",
   "name": "python",
   "nbconvert_exporter": "python",
   "pygments_lexer": "ipython3",
   "version": "3.8.3"
  }
 },
 "nbformat": 4,
 "nbformat_minor": 4
}

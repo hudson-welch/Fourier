{
 "cells": [
  {
   "cell_type": "markdown",
   "metadata": {},
   "source": [
    "# Fourier transform formula\n",
    "\n",
    "We will write the signal (in the spatial domain) as a lower case letter and the Fourier transform (in the spatial frequency domain) as a capital letter.  The double harpoon inbetween means that $F(s)$ is the Fourier transform of $f(x)$ and that $f(x)$ is the inverse Fourier Transform of $F(s)$.  "
   ]
  },
  {
   "cell_type": "markdown",
   "metadata": {},
   "source": [
    "$$f(x) \\rightleftharpoons F(s)$$"
   ]
  },
  {
   "cell_type": "markdown",
   "metadata": {},
   "source": [
    "Note that $F(s)$ contains all the information from $f(x)$, so we can go back and forth from the spatial domain to the spatial frequency domain with no loss of information.   \n",
    "\n",
    "The formula for the Fourier transform is "
   ]
  },
  {
   "cell_type": "markdown",
   "metadata": {},
   "source": [
    "$$F(s) = \\int \\limits_{-\\infty}^{\\infty} f(x)~e^{-2 \\pi i s x} ~dx$$"
   ]
  },
  {
   "cell_type": "markdown",
   "metadata": {},
   "source": [
    "where $s$ is the spatial frequency.  The range of $s$ is referred to as the spectrum.  We will use $i$ to denote complex numbers.\n",
    "\n",
    "$$i = \\sqrt{-1}$$"
   ]
  },
  {
   "cell_type": "markdown",
   "metadata": {},
   "source": [
    "# Inverse Fourier transform formula\n",
    "\n",
    "The formula for the inverse Fourier Transform is\n",
    "\n"
   ]
  },
  {
   "cell_type": "markdown",
   "metadata": {},
   "source": [
    "$$f(x) = \\frac{1}{2 \\pi} \\int \\limits_{-\\infty}^{\\infty}  F(s) ~e^{2 \\pi i s x} ~ds$$"
   ]
  },
  {
   "cell_type": "markdown",
   "metadata": {},
   "source": [
    "In both formulas we have and exponential term.  The Fourier transform has a negative exponential and the inverse formula as positive exponential.  The general form is $e^{i\\theta}$.  With Euler's formula we see that\n",
    "\n",
    "$$e^{i \\theta} = \\cos \\theta + i \\sin \\theta$$"
   ]
  },
  {
   "cell_type": "markdown",
   "metadata": {},
   "source": [
    "So $e^{i \\theta}$ is an oscillator that varies between 1 and -1.  This is the sinusoid nature of the frequency domain.  "
   ]
  },
  {
   "cell_type": "code",
   "execution_count": null,
   "metadata": {},
   "outputs": [],
   "source": []
  }
 ],
 "metadata": {
  "kernelspec": {
   "display_name": "Python 3",
   "language": "python",
   "name": "python3"
  },
  "language_info": {
   "codemirror_mode": {
    "name": "ipython",
    "version": 3
   },
   "file_extension": ".py",
   "mimetype": "text/x-python",
   "name": "python",
   "nbconvert_exporter": "python",
   "pygments_lexer": "ipython3",
   "version": "3.7.6"
  }
 },
 "nbformat": 4,
 "nbformat_minor": 4
}

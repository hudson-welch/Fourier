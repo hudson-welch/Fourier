{
 "cells": [
  {
   "cell_type": "markdown",
   "metadata": {},
   "source": [
    "We begin by stating that if a function $f(x)$ has a Fourier transform $F(s)$\n",
    "\n",
    "$$f(x) \\leftrightharpoons F(s)$$\n",
    "\n",
    "then \n",
    "\n",
    "$$ \\frac{~d}{dx} f(x) \\leftrightharpoons 2 \\pi i s F(s)$$\n",
    "\n",
    "and that in general\n",
    "\n",
    "$$\\frac{~d^k}{dx^k} f(x) \\leftrightharpoons (2 \\pi i s)^k F(s)$$"
   ]
  },
  {
   "cell_type": "markdown",
   "metadata": {},
   "source": [
    "Proof:\n",
    "\n",
    "The inverse Fourier transform of $F(s)$ is given by \n",
    "\n",
    "$$f(x) = \\int \\limits_{-\\infty}^{\\infty} F(s) e^{2 \\pi i s x } ~ds $$\n",
    "\n",
    "Because $F(s)$ is not a funciton of $x$, taking the derivative of both sides yields is \n",
    "\n",
    "$$ \\frac{~d}{dx} f(x) = \\int \\limits_{-\\infty}^{\\infty} F(s) \\frac{~d}{dx} e^{2 \\pi i s x } ~ds = \\int \\limits_{-\\infty}^{\\infty} F(s)  e^{2 \\pi i s x } (2 \\pi i s) ~ds $$\n",
    "\n",
    "The term $(2 \\pi i s)$ comes from the chain rule. We associate this factor with $F(s)$ giving us "
   ]
  },
  {
   "cell_type": "markdown",
   "metadata": {},
   "source": [
    "$$ \\frac{~d}{dx} f(x) = \\int \\limits_{-\\infty}^{\\infty}2 \\pi i s F(s)  e^{2 \\pi i s x }  ~ds $$\n",
    "\n",
    "\n",
    "Therefore \n",
    "\n",
    "$$\\frac{~d}{dx} f(x) \\leftrightharpoons 2 \\pi i s F(s)$$\n",
    "\n",
    "QED\n",
    "\n",
    "If we take take the derivative of this we get another $(2 \\pi i s)$ factor.  If we take the kth derivative we get $(2 \\pi k s)^k$.  Therefore \n",
    "\n",
    "$$\\frac{~d^k}{dx^k} f(x) \\leftrightharpoons (2 \\pi i s)^k F(s)$$\n",
    "\n",
    "QED\n"
   ]
  },
  {
   "cell_type": "code",
   "execution_count": null,
   "metadata": {},
   "outputs": [],
   "source": []
  }
 ],
 "metadata": {
  "kernelspec": {
   "display_name": "Python 3",
   "language": "python",
   "name": "python3"
  },
  "language_info": {
   "codemirror_mode": {
    "name": "ipython",
    "version": 3
   },
   "file_extension": ".py",
   "mimetype": "text/x-python",
   "name": "python",
   "nbconvert_exporter": "python",
   "pygments_lexer": "ipython3",
   "version": "3.8.3"
  }
 },
 "nbformat": 4,
 "nbformat_minor": 4
}

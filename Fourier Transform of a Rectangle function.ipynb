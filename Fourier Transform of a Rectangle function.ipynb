{
 "cells": [
  {
   "cell_type": "markdown",
   "metadata": {},
   "source": [
    "# Introduction\n",
    "\n",
    "In this post we discuss the rectangle function (called \"rect\" function).  We use the rect function as a basis for the delta function in much the same way we used the Gaussian as a basis for the delta function.  We begin with a review of Euler' formula because we will need to recognize an identity of the sine function in our result. Next we  derive the Fourier transform of a simple rect. We discuss the squeeze thereom order to understand the limit of that function as the frequency approaches zero.  We then use the properties of Fourier transform to find the transform of a scalable rect, and finally we take the limit as the width of the rect approaches zero to show the relationship to a delta function.  \n",
    "\n",
    "# Preliminary\n",
    "\n",
    "Recall that Euler's formula states that \n",
    "\n",
    "$$e^{i \\theta} = \\cos \\theta + i \\sin \\theta$$\n",
    "\n",
    "*Incidentally, if you compute the first several terms of the Taylor series expansion for $e^\\theta$, $\\sin \\theta$ and $\\cos \\theta$ you will better understand the motivations that led to the \"discovery/development/invention\" of complex numbers and the role of $i=\\sqrt{-1}$. But perhaps that's another post.*\n",
    "\n",
    "If we replace $i\\theta$ with $-i\\theta$:  \n",
    "\n",
    "$$i\\theta \\rightarrow -i\\theta$$\n",
    "\n",
    "We have \n",
    "\n",
    "$$e^{-i\\theta} = \\cos(-\\theta) + i \\sin(-\\theta)$$\n",
    "\n",
    "The cosine function is even so $\\cos(-\\theta) = \\cos \\theta$. The sine function is odd so $\\sin(-\\theta) = -\\sin \\theta$.  Therefore \n",
    "\n",
    "$$e^{-i\\theta} = \\cos(\\theta) - i \\sin(\\theta)$$\n"
   ]
  },
  {
   "cell_type": "markdown",
   "metadata": {},
   "source": [
    "We substract the 2nd equation from the 1st.\n",
    "\n",
    "$$e^{i \\theta} = \\cos \\theta + i \\sin \\theta$$  \n",
    "\n",
    "$$- e^{-i\\theta} = -\\cos(\\theta) + i \\sin(\\theta)$$   \n",
    "\n",
    "$$e^{i\\theta} - e^{-i\\theta} = 0 + 2i\\sin \\theta$$\n",
    "\n",
    "Solving for $\\sin \\theta$ yields\n",
    "\n",
    "$$\\sin \\theta = \\frac{e^{i\\theta} - e^{-i\\theta}}{2i} $$\n",
    "\n",
    "Later we need to recognize this idenity in our result."
   ]
  },
  {
   "cell_type": "markdown",
   "metadata": {},
   "source": [
    "# Rectangle function\n",
    "\n",
    "The rectangle or rect function is described with the following.  \n",
    "\n",
    " $$f(x)= rect(x) = \n",
    "\\begin{cases}\n",
    "    1,& \\text{if } |x|<\\frac{1}{2}\\\\\n",
    "    0,              & \\text{otherwise}\n",
    "\\end{cases}$$"
   ]
  },
  {
   "cell_type": "code",
   "execution_count": 1,
   "metadata": {},
   "outputs": [
    {
     "data": {
      "text/plain": [
       "(-3.0, 3.0)"
      ]
     },
     "execution_count": 1,
     "metadata": {},
     "output_type": "execute_result"
    },
    {
     "data": {
      "image/png": "[encoded data removed]",
      "text/plain": [
       "<Figure size 864x288 with 1 Axes>"
      ]
     },
     "metadata": {
      "needs_background": "light"
     },
     "output_type": "display_data"
    }
   ],
   "source": [
    "import matplotlib.pyplot as plt\n",
    "fig, ax = plt.subplots(figsize=(12,4))\n",
    "ax.plot([-5, -1/2],[0,0], color = 'blue')\n",
    "ax.plot([-1/2, -1/2], [0, 1], color='blue')\n",
    "ax.plot([-1/2, 1/2], [1,1], color='blue')\n",
    "ax.plot([1/2, 1/2], [0, 1] , color='blue')\n",
    "ax.plot([1/2, 5], [0,0], color='blue')\n",
    "ax.set_xlim(-3, 3)\n",
    "\n",
    "#ax.arrow(0,0, 0, 1)"
   ]
  },
  {
   "cell_type": "markdown",
   "metadata": {},
   "source": [
    "The graph above shows the rect function. For values $x<-\\frac{1}{2}$ the function has the value zero, above $x=\\frac{1}{2}$ the function has the value zero, and where $-\\frac{1}{2} < x < \\frac{1}{2}$ the function has the value one. "
   ]
  },
  {
   "cell_type": "markdown",
   "metadata": {},
   "source": [
    "# Fourier transform of rect(x)\n",
    "\n",
    "We can determine the Fourier transform of the rect function directly using formula for Fourier transform. \n",
    "\n",
    "$$F(s) = \\int \\limits_{-\\infty}^{\\infty} f(x)~e^{-2 \\pi i s x}~dx$$\n",
    "\n",
    "The key to determining this integral is piecewise integation.  The function is zero everywhere except $-\\frac{1}{2} < x< \\frac{1}{2}$.  Therefore\n",
    "\n",
    "$$F(s) = \\int \\limits_{-\\infty}^{-\\frac{1}{2}} (0)~e^{-2 \\pi i s x}~dx + \\int \\limits_{-\\frac{1}{2}}^{\\frac{1}{2}} (1) ~e^{-2 \\pi i s x}~dx + \\int \\limits_{\\frac{1}{2}}^{\\infty} (0)~e^{-2 \\pi i s x}~dx$$\n",
    "\n",
    "$$F(s) = \\int \\limits_{-\\frac{1}{2}}^{\\frac{1}{2}} ~e^{-2 \\pi i s x}~dx$$\n",
    "\n",
    "We use u substitution to solve the integral. Let $u = - 2 \\pi i s x \\Rightarrow du = -2 \\pi i s ~dx \\Rightarrow dx = \\frac{du}{-2 \\pi i s}$\n",
    "\n",
    "making these substitions yield\n",
    "\n",
    "$$F(s) = \\int \\limits_{-\\frac{1}{2}}^{\\frac{1}{2}} ~e^{u}~\\frac{du}{-2 \\pi i s}= \\frac{-1}{ 2 \\pi i s} \\Big[ e^{-2 \\pi i s x} \\Big]_{-\\frac{1}{2}}^\\frac{1}{2}$$\n",
    "\n",
    "Evaluating the integral at its limits gives us \n",
    "\n",
    "\n",
    "$$F(s)  =\\frac{-1}{ 2 \\pi i s} \\Big( e^{-\\pi i s } - e^{\\pi i s} \\Big) = \\frac{1}{ 2 \\pi i s} \\Big( e^{\\pi i s } - e^{-\\pi i s} \\Big)$$\n",
    "\n",
    "We group the $2i$ with the difference in exponentials\n",
    "\n",
    "$$F(s) = \\frac{1}{ \\pi s} \\frac{\\Big( e^{\\pi i s } - e^{-\\pi i s} \\Big)}{2i}$$\n",
    "\n",
    "\n",
    "We then recognize that the difference in exponentials over $2i$ is the sine function:\n",
    "\n",
    "$$F(s) = \\frac{1}{\\pi s} \\sin \\pi s $$\n",
    "\n",
    "This function appears often enough to have its own name: sinc function.\n",
    "\n",
    "$$F(s) = \\frac{\\sin \\pi s}{\\pi s}  = \\text{sinc} ~\\pi s$$"
   ]
  },
  {
   "cell_type": "markdown",
   "metadata": {},
   "source": [
    "# Squeeze theorem\n",
    "\n",
    "What is the limit of the sinc function as $s \\rightarrow 0$?\n",
    "\n",
    "$$\\lim_{s \\to 0} \\frac{\\sin \\pi s}{\\pi s} = ?$$"
   ]
  },
  {
   "cell_type": "code",
   "execution_count": 2,
   "metadata": {},
   "outputs": [
    {
     "data": {
      "text/plain": [
       "Text(0.5, 1.0, 'unit circle')"
      ]
     },
     "execution_count": 2,
     "metadata": {},
     "output_type": "execute_result"
    },
    {
     "data": {
      "image/png": "[encoded data removed]",
      "text/plain": [
       "<Figure size 432x432 with 1 Axes>"
      ]
     },
     "metadata": {
      "needs_background": "light"
     },
     "output_type": "display_data"
    }
   ],
   "source": [
    "import numpy as np\n",
    "\n",
    "fig, ax = plt.subplots(figsize=(6,6))\n",
    "ax.set_aspect('equal')\n",
    "ax.set_xlim(-1.1, 1.1)\n",
    "ax.set_ylim(-1.1, 1.1)\n",
    "ax.axis('off')\n",
    "theta = np.linspace(0, 2*np.pi, num=500)\n",
    "radius = 1\n",
    "x = radius*np.cos(theta)\n",
    "y = radius*np.sin(theta)\n",
    "angle = np.pi/4\n",
    "ax.plot(x, y, color='gray', lw=1)\n",
    "ax.plot([0, radius], [0, 0], color='blue')\n",
    "ax.plot([0, np.tan(angle)], color='blue')\n",
    "ax.plot([1, 1], [0, np.tan(angle)], color='blue')\n",
    "ax.plot([1, np.cos(angle)], [0, np.sin(angle)], color='blue')\n",
    "ax.plot([np.cos(angle), np.cos(angle)], [0, np.sin(angle)], color='blue')\n",
    "ax.text(0,-0.01, 'O', va='top', ha='center', fontsize=15)\n",
    "ax.text(np.cos(angle),-0.01, 'B', va='top', ha='center', fontsize=15)\n",
    "ax.text(1,-0.01, 'C', va='top', ha='left', fontsize=15)\n",
    "ax.text(1, np.tan(angle), 'D', va='bottom', ha='left', fontsize=15)\n",
    "ax.text(np.cos(angle), 1.05*np.sin(angle), 'E', va='bottom', ha='center', fontsize=15)\n",
    "\n",
    "ax.text(0.2, 0.09, r'$\\theta$', fontsize=15, ha='center', va='center')\n",
    "ax.set_title('unit circle')\n",
    "\n",
    "#https://tex.stackexchange.com/questions/346613/how-to-label-angles-in-a-right-triangle"
   ]
  },
  {
   "cell_type": "markdown",
   "metadata": {},
   "source": [
    "The diagram above shows a unit circle with an angle $\\theta$ indicated. We consider three areas.\n",
    "\n",
    "1. $A_W$: The area of the wedge $OCE$ which consists of line segments $\\overline{OC}$ and $\\overline{OE}$ together with arc-segment $CE$\n",
    "2. $A_I$: The area of the isoceles triangle $OCE$\n",
    "3. $A_R$: The area of the right triangle $OCD$"
   ]
  },
  {
   "cell_type": "markdown",
   "metadata": {},
   "source": [
    "By observation we can postion the areas from largest to smallest in the inequality\n",
    "\n",
    "$$A_I \\leq A_W \\leq A_R$$"
   ]
  },
  {
   "cell_type": "markdown",
   "metadata": {},
   "source": [
    "In general, the area of a triangle is one half the base times the height: $\\frac{1}{2}bh$"
   ]
  },
  {
   "cell_type": "markdown",
   "metadata": {},
   "source": [
    "For the isoceles triangle the area is \n",
    "\n",
    "$$A_I = \\frac{1}{2}bh = \\frac{1}{2}(1)(\\sin \\theta) = \\frac{\\sin \\theta}{2}$$"
   ]
  },
  {
   "cell_type": "markdown",
   "metadata": {},
   "source": [
    "The area of the right triangle is \n",
    "\n",
    "$$A_R= \\frac{1}{2}bh = \\frac{1}{2}(1) \\tan \\theta = \\frac{\\tan \\theta}{2}$$"
   ]
  },
  {
   "cell_type": "markdown",
   "metadata": {},
   "source": [
    "The area of the wedge is a portion of the total area of a circle.  That portion is $\\frac{\\theta}{2 \\pi}$. Therefore the area of the wedge is \n",
    "\n",
    "$$A_W = \\frac{\\theta}{2 \\pi} \\pi r^2$$\n",
    "\n",
    "The radius of the unit circle is $r=1$ so\n",
    "\n",
    "$$A_W = \\frac{\\theta}{2} $$\n",
    "\n"
   ]
  },
  {
   "cell_type": "markdown",
   "metadata": {},
   "source": [
    "We make these substitutions into our inequality to arrive at\n",
    "\n",
    "$$A_I \\leq A_W \\leq A_R$$  \n",
    "\n",
    "  \n",
    "\n",
    "$$\\frac{\\sin \\theta}{2} \\leq \\frac{\\theta}{2} \\leq \\frac{\\tan \\theta}{2}$$  \n",
    "\n",
    "Multiplying by 2 and substiting $\\tan \\theta = \\frac{\\sin \\theta} {\\cos \\theta}$ gives us\n",
    "\n",
    "$$\\sin \\theta \\leq \\theta \\leq \\frac{\\sin \\theta}{\\cos \\theta} $$\n",
    "\n",
    "Next we divide by $\\sin \\theta$\n",
    "\n",
    "$$1 \\leq \\frac{\\theta}{\\sin \\theta} \\leq \\frac{1}{\\cos \\theta} $$\n",
    "\n",
    "Taking the reciprocal yields\n",
    "\n",
    "$$1 \\geq \\frac{\\sin \\theta}{\\theta} \\geq \\cos \\theta$$\n"
   ]
  },
  {
   "cell_type": "markdown",
   "metadata": {},
   "source": [
    "Finally we take the limit as $\\theta \\rightarrow 0$\n",
    "\n",
    "$$\\lim_{\\theta \\to 0}1 \\geq \\lim_{\\theta \\to 0} \\frac{\\sin \\theta}{\\theta} \\geq  \\lim_{\\theta \\to 0}\\cos \\theta$$  \n",
    "\n",
    "$$1 \\geq \\lim_{\\theta \\to 0} \\frac{\\sin \\theta}{\\theta} \\geq  1$$"
   ]
  },
  {
   "cell_type": "markdown",
   "metadata": {},
   "source": [
    "So the limit of the sinc function is a number that lies between one and one.  Therefore it must be one.  Hence the name \"squeeze\" theorem.   \n",
    "\n",
    "$$ \\lim_{\\theta \\to 0} \\frac{\\sin \\theta}{\\theta} = 1$$\n",
    "\n",
    "QED"
   ]
  },
  {
   "cell_type": "markdown",
   "metadata": {},
   "source": [
    "So far we have derived the Fourier of a rect\n",
    "\n",
    "$$\\text{rect}(x) \\leftrightharpoons \\text{sinc}(s)$$\n",
    "\n"
   ]
  },
  {
   "cell_type": "code",
   "execution_count": 3,
   "metadata": {},
   "outputs": [
    {
     "data": {
      "text/plain": [
       "Text(1, 0.8, '$\\\\frac{\\\\sin \\\\pi s}{\\\\pi s}$')"
      ]
     },
     "execution_count": 3,
     "metadata": {},
     "output_type": "execute_result"
    },
    {
     "data": {
      "image/png": "[encoded data removed]",
      "text/plain": [
       "<Figure size 1152x432 with 1 Axes>"
      ]
     },
     "metadata": {
      "needs_background": "light"
     },
     "output_type": "display_data"
    }
   ],
   "source": [
    "fig, ax = plt.subplots(figsize=(16,6))\n",
    "ax.set_title('sinc function')\n",
    "r = 6\n",
    "ax.set_xlim(-r,r)\n",
    "ax.set_xlabel('s')\n",
    "s = np.linspace(-r, r, num=500)\n",
    "y = np.sin(np.pi*s)/np.pi/s\n",
    "ax.plot(s,y, color='blue')\n",
    "ax.axhline(0, color='gray', lw=1)\n",
    "ax.text(1, 0.8, r'$\\frac{\\sin \\pi s}{\\pi s}$', fontsize=30, color='blue')"
   ]
  },
  {
   "cell_type": "markdown",
   "metadata": {},
   "source": [
    "The graph above shows a sinc function.  We have shown with the squeezze theorem that the value at $s=0$ is one.  The sinc function has a value of zero for values of $s = \\pm 1, ~ \\pm 2, ~\\pm 3, ~...$.  This is because the sine function has values of zero at $n \\pi$ where $n = \\pm 1, ~ \\pm 2, ~\\pm 3, ~...$"
   ]
  },
  {
   "cell_type": "markdown",
   "metadata": {},
   "source": [
    "Next we will use the properties of Fourier transform to determine the Fourier transform of a scalable rect function.\n"
   ]
  },
  {
   "cell_type": "markdown",
   "metadata": {},
   "source": [
    "# Scalable rect function\n",
    "\n",
    " $$f(x)= \\frac{1}{w} \\text{rect}  \\Big( \\frac{x}{w} \\Big) = \n",
    "\\begin{cases}\n",
    "    \\frac{1}{w},& \\text{if} |\\frac{x}{w}|<\\frac{1}{2}\\\\\n",
    "    0,              & \\text{otherwise}\n",
    "\\end{cases}$$\n",
    "\n",
    "The scalable rect function differs in two ways from the unit rect function.  \n",
    "\n",
    "1. The width is $w$ rather than one.  \n",
    "2. The height is $\\frac{1}{w}$ rather than one.  \n",
    "\n",
    "What they have in common is that the area under the curve is one. i.e. the height times the width is one, $\\frac{1}{w} w = 1$.  This is important when applying mathmetics to the physical world.  It allows us to model the world with equations that perserve the law of conservation of energy. \n",
    "\n",
    "To determine the Fourier transform of $\\frac{1}{w} \\text{rect}\\Big(\\frac{x}{w}\\Big)$ we begin with \n",
    "\n",
    "$$\\text{rect}(x) \\leftrightharpoons \\text{sinc}(s)$$\n"
   ]
  },
  {
   "cell_type": "markdown",
   "metadata": {},
   "source": [
    "From the linearity property we \n",
    "\n",
    "$$\\frac{1}{w} ~\\text{rect}(x) \\leftrightharpoons \\frac{1}{w} ~\\text{sinc}(\\pi s)$$"
   ]
  },
  {
   "cell_type": "markdown",
   "metadata": {},
   "source": [
    "Applying the similarity theorem (scaling property) to the equation above yields\n",
    "\n",
    "$$\\frac{1}{w} \\text{rect} \\Big(\\frac{x}{w} \\Big) \\leftrightharpoons \\frac{w}{w} \\text{sinc}( \\pi w s) = \\text{sinc}( \\pi w s)$$"
   ]
  },
  {
   "cell_type": "markdown",
   "metadata": {},
   "source": [
    "# Relating the rect function to the delta function\n",
    "\n",
    "We can easily show that the scalable rect function $\\frac{1}{w} \\text{rect}\\Big(\\frac{x}{w} \\Big)$ has an area under the curve of one for an arbitraily small $w$.  As $w \\rightarrow 0$ the height of the rect approachs infinity. Therefore the scalable rect function has the characteristics needed for a delta.  \n",
    "\n",
    "We now apply the limit as $w \\rightarrow 0$.  \n",
    "\n",
    "$$\\lim_{w \\to 0} \\text{sinc} (\\pi w s ) = 1$$\n",
    "\n",
    "as we saw previously with the squeeze theorem.  Therefore \n",
    "\n",
    "$$\\delta(x) \\leftrightharpoons 1$$\n",
    "\n",
    "QED\n"
   ]
  },
  {
   "cell_type": "markdown",
   "metadata": {},
   "source": [
    "# Summary \n",
    "\n",
    "The Fourier transform of a rect is a sinc.  The delta \"function\" can we thought of as a rect of infintesimal width.  The sinc function goes to one as $s$ goes to zero. Therefore the Fourier transform of a delta is one.  We see that a delta function is an impulse of infintesimal width, but while it has infinite height, it has a finite area under the curve.  It can impart a specific amount of energy to a system instantaneously.  Of course this is an approximation but it is a useful and accurate approximation in many circumstances.    "
   ]
  },
  {
   "cell_type": "code",
   "execution_count": null,
   "metadata": {},
   "outputs": [],
   "source": []
  }
 ],
 "metadata": {
  "kernelspec": {
   "display_name": "Python 3",
   "language": "python",
   "name": "python3"
  },
  "language_info": {
   "codemirror_mode": {
    "name": "ipython",
    "version": 3
   },
   "file_extension": ".py",
   "mimetype": "text/x-python",
   "name": "python",
   "nbconvert_exporter": "python",
   "pygments_lexer": "ipython3",
   "version": "3.8.3"
  }
 },
 "nbformat": 4,
 "nbformat_minor": 4
}

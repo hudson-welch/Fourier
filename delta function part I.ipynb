{
 "cells": [
  {
   "cell_type": "code",
   "execution_count": 1,
   "metadata": {},
   "outputs": [],
   "source": [
    "import matplotlib.pyplot as plt"
   ]
  },
  {
   "cell_type": "markdown",
   "metadata": {},
   "source": [
    "# Delta function $\\delta(x)$\n",
    "\n",
    "The delta function is an integral part of Fourier analysis.  Technically speaking, it is not a function.  It's typically described as an infintesimally narrow and infinitely tall pulse with the area under the curve equal to one. "
   ]
  },
  {
   "cell_type": "markdown",
   "metadata": {},
   "source": [
    "$$f(x)= \n",
    "\\begin{cases}\n",
    "    \\infty,& \\text{if } x=0\\\\\n",
    "    0,              & \\text{otherwise}\n",
    "\\end{cases}$$"
   ]
  },
  {
   "cell_type": "code",
   "execution_count": 2,
   "metadata": {},
   "outputs": [
    {
     "data": {
      "image/png": "[encoded data removed]",
      "text/plain": [
       "<Figure size 864x432 with 1 Axes>"
      ]
     },
     "metadata": {
      "needs_background": "light"
     },
     "output_type": "display_data"
    }
   ],
   "source": [
    "fig, ax = plt.subplots(figsize=(12,6))\n",
    "ax.set_xlim(-2, 2)\n",
    "ax.set_ylim(0, 1.5)\n",
    "ax.arrow(0,0,0,1, head_width=0.05)\n",
    "_ = ax.text(0, 1.1, r'$\\infty$', ha='center', fontsize=20)"
   ]
  },
  {
   "cell_type": "markdown",
   "metadata": {},
   "source": [
    "The delta function is zero everywhere except at $x=0$.  If has the value of infinitely at $x=0$.  The area under the curve is one.  "
   ]
  },
  {
   "cell_type": "markdown",
   "metadata": {},
   "source": [
    "One way to think of a delta function is as a Gaussian with an infintesimally small $\\sigma$.  In probability theory we use the Gaussian as a probability distribution function.  The integral from negative infinity to positive infinity must be equal to one, since a probability greater than one has no meaning.  So a very narrow Gaussian fits the bill as a function that is similar to the delta function.  \n",
    "\n",
    "We will normalize a Gaussian function to get a better feel for the delta function. The standard form of a Gaussian function is \n",
    "\n",
    "$$g(x) = k \\exp{\\frac{x^2}{2 \\sigma^2} }$$\n",
    "\n",
    "where $k$ is a normalizing constant and $\\sigma$ is a parameter that determines the width.  $\\sigma$ is actually the inflection point of curve. i.e. where curvature changes sign,  i.e the value of $x$ where the second derivative $\\frac{d^2}{dx^2} g(x) = 0$"
   ]
  },
  {
   "cell_type": "markdown",
   "metadata": {},
   "source": [
    "Our goal is to determine a value for $k$ such that\n",
    "\n",
    "$$k \\int \\limits_{-\\infty}^{\\infty} \\exp{\\frac{-x^2}{2 \\sigma^2} } ~dx = 1$$"
   ]
  },
  {
   "cell_type": "markdown",
   "metadata": {},
   "source": [
    "We need to evalute the integral and solve for $k$.  This not as easy as it may first appear.  There is a trick, however, that makes the integration relatively straight forward.  We introduce another function $f(y)$ that is identical to $g(x)$ except that $y$ is the independent variable. So we have two functions:\n",
    "\n",
    "$$g(x) = k \\exp{\\frac{-x^2}{2 \\sigma^2} }$$\n",
    "\n",
    "and \n",
    "\n",
    "$$f(y) = k \\exp{\\frac{-y^2}{2 \\sigma^2} }$$\n",
    "\n",
    "We have the constraint on both that the integral from positive to negative infinity must be equal to one.  \n",
    "\n",
    "$$\\int \\limits_{-\\infty}^{\\infty} g(x) ~dx = 1$$\n",
    "\n",
    "and \n",
    "\n",
    "$$\\int \\limits_{-\\infty}^{\\infty} f(y) ~dy = 1$$ "
   ]
  },
  {
   "cell_type": "markdown",
   "metadata": {},
   "source": [
    "We can now multiple these two integrals\n",
    "\n",
    "$$\\int \\limits_{-\\infty}^{\\infty} g(x) ~dx ~\\int \\limits_{-\\infty}^{\\infty} f(y) ~dy = 1$$\n",
    "\n",
    "$$\\Bigg[k \\int \\limits_{-\\infty}^{\\infty} \\exp{\\frac{x^2}{2 \\sigma^2} } ~dx \\Bigg]  ~\\Bigg[k\\int \\limits_{-\\infty}^{\\infty} \\exp{\\frac{y^2}{2 \\sigma^2} } ~dy\\Bigg] = 1$$\n",
    "\n",
    "Rearranging results in \n",
    "\n",
    "$$k^2 \\int \\limits_{-\\infty}^{\\infty} \\int \\limits_{-\\infty}^{\\infty} \\exp{\\frac{-x^2}{2 \\sigma^2} } \\exp{\\frac{-y^2}{2 \\sigma^2} } ~dx~dy = 1$$\n"
   ]
  },
  {
   "cell_type": "markdown",
   "metadata": {},
   "source": [
    "We then combine the exponentials\n",
    "\n",
    "$$k^2 \\int \\limits_{-\\infty}^{\\infty} \\int \\limits_{-\\infty}^{\\infty} \\exp{\\frac{-(x^2 + y^2)}{2 \\sigma^2} } ~dx~dy = 1$$\n",
    "\n"
   ]
  },
  {
   "cell_type": "markdown",
   "metadata": {},
   "source": [
    "We can visualize this as a 3 dimensional mound shaped surface over the $x,~y$ plane.  Therefore the double integral represents the volume over the plane.  That is, the differential area $dA = dx~dy$ muliplied by the height of the surface yields the differential volume.  Integrating over the entire plane ($-\\infty < x < \\infty$ and $-\\infty < y < \\infty$) is the total volume under the surface."
   ]
  },
  {
   "cell_type": "markdown",
   "metadata": {},
   "source": [
    "Next we represent this function in cylindrical corrdinates with the following substitutions\n",
    "\n",
    "$$r^2 = x^2 + y^2$$\n",
    "\n",
    "and the differential area in rectangular coordinates to the differential area in cyclindrical coordinates (Jacobian)\n",
    "\n",
    "$$dA = dx ~dy = r~dr ~d\\theta$$"
   ]
  },
  {
   "cell_type": "markdown",
   "metadata": {},
   "source": [
    "$$k^2 \\int \\limits_{\\theta=0}^{2 \\pi} \\int \\limits_{r=0}^{\\infty} \\exp{\\frac{-r^2}{2 \\sigma^2} } ~r~dr~d\\theta = 1$$"
   ]
  },
  {
   "cell_type": "markdown",
   "metadata": {},
   "source": [
    "Let"
   ]
  },
  {
   "cell_type": "markdown",
   "metadata": {},
   "source": [
    "$$u=\\frac{-r^2}{2\\sigma^2} \\Rightarrow du = \\frac{-r}{\\sigma^2}~dr \\Rightarrow dr = -\\frac{\\sigma^2}{r}~du$$\n",
    "\n",
    "Note that the limits of integration change with this substitution.  Replacing the exponential with u and substuting $dr$ into the double integral yields\n",
    "\n",
    "$$k^2 \\int \\limits_{\\theta=0}^{2 \\pi} \\int \\limits_{u=0}^{-\\infty} \\exp{u} ~r \\Bigg( -\\frac{\\sigma^2}{r} ~du\\Bigg) ~d\\theta = 1$$\n",
    "\n",
    "The $r$'s cancel (This is the reason for putting things in cylindrical coordinates). Pulling constants out of the integral gives us \n",
    "\n",
    "$$-k^2 \\sigma^2 \\int \\limits_{\\theta=0}^{2 \\pi} ~d\\theta \\int \\limits_{u=0}^{-\\infty} \\exp{u}  ~du  = 1$$"
   ]
  },
  {
   "cell_type": "markdown",
   "metadata": {},
   "source": [
    "Integration of $d\\theta$ from $0$ to $2 \\pi$ gives us $2 \\pi$ and the integral of $e^u$ is $e^u$ so \n",
    "\n",
    "$$-2 \\pi k^2 \\sigma^2 \\Bigg[ \\exp{\\frac{-r^2}{2 \\sigma^2}} \\Bigg]_{r=0}^{\\infty} = -2 \\pi k^2 \\sigma^2(0-1)  = 1$$\n",
    "\n",
    "Evaluating the integral yields\n",
    "\n",
    "$$2 \\pi k^2 \\sigma^2  = 1$$"
   ]
  },
  {
   "cell_type": "markdown",
   "metadata": {},
   "source": [
    "Solving for $k$ gives us\n",
    "\n",
    "$$k = \\frac{1}{\\sqrt{2 \\pi \\sigma^2}}$$\n",
    "\n",
    "Therefore\n",
    "\n",
    "$$g(x) = \\frac{1}{\\sqrt{2 \\pi \\sigma^2}} \\exp{\\Bigg(\\frac{-x^2}{2 \\sigma^2}} \\Bigg)$$\n",
    "\n",
    "QED"
   ]
  },
  {
   "cell_type": "markdown",
   "metadata": {},
   "source": [
    "With some effort we have convinced ourselves that the derived value of $k$ will ensure that the area under the Gaussian will be 1 when the limits of integration are positive and negative infinity.  This meets one of the requirements of the delta function.  Now we think of the delta function as\n",
    "\n",
    "$$\\delta(x) = \\lim_{\\sigma \\to 0} \\frac{1}{\\sqrt{2 \\pi \\sigma^2}} \\exp{\\Bigg(\\frac{-x^2}{2 \\sigma^2}} \\Bigg)$$\n",
    "\n",
    "From the derivation above we know that the area under this curve is one for arbitrarily small $\\sigma$.  From the equation we see that the maximum value of a Gaussian gets larger as $\\sigma$ gets smaller. Therefore, as $\\sigma \\rightarrow 0$ the maximum value of the Gaussian must approach infinity."
   ]
  },
  {
   "cell_type": "code",
   "execution_count": 14,
   "metadata": {},
   "outputs": [
    {
     "data": {
      "image/png": "[encoded data removed]",
      "text/plain": [
       "<Figure size 864x432 with 1 Axes>"
      ]
     },
     "metadata": {
      "needs_background": "light"
     },
     "output_type": "display_data"
    }
   ],
   "source": [
    "import numpy as np\n",
    "\n",
    "def pdf(sigma, x):\n",
    "    y = 1/np.sqrt(2 * np.pi * sigma**2) * np.exp(-x**2/2/sigma**2)\n",
    "    return y\n",
    "    \n",
    "fig, ax = plt.subplots(figsize=(12,6))\n",
    "x = np.linspace(-3,3, num=1000)\n",
    "ax.plot(x, pdf(1,x), label=r'$\\sigma=1$')\n",
    "ax.plot(x, pdf(0.5,x), label=r'$\\sigma=\\frac{1}{2}$')\n",
    "ax.plot(x, pdf(0.25,x), label=r'$\\sigma=\\frac{1}{4}$')\n",
    "ax.plot(x, pdf(0.001,x), label=r'$\\sigma=\\frac{1}{1000}$')\n",
    "\n",
    "ax.set_ylim(0, 2)\n",
    "\n",
    "_ = ax.legend()\n"
   ]
  },
  {
   "cell_type": "markdown",
   "metadata": {},
   "source": [
    "The graph above shows Gaussian functions with smaller and smaller $\\sigma$. \n",
    "\n"
   ]
  },
  {
   "cell_type": "code",
   "execution_count": null,
   "metadata": {},
   "outputs": [],
   "source": []
  }
 ],
 "metadata": {
  "kernelspec": {
   "display_name": "Python 3",
   "language": "python",
   "name": "python3"
  },
  "language_info": {
   "codemirror_mode": {
    "name": "ipython",
    "version": 3
   },
   "file_extension": ".py",
   "mimetype": "text/x-python",
   "name": "python",
   "nbconvert_exporter": "python",
   "pygments_lexer": "ipython3",
   "version": "3.7.6"
  }
 },
 "nbformat": 4,
 "nbformat_minor": 4
}
